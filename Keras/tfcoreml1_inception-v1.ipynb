{
 "cells": [
  {
   "cell_type": "code",
   "execution_count": null,
   "metadata": {},
   "outputs": [],
   "source": [
    "# .pbファイル読み込み\n",
    "tf_model_path = './inception_v1_2016_08_28_frozen.pb'\n",
    "\n",
    "with open(tf_model_path, 'rb') as f:\n",
    "    serialized = f.read()"
   ]
  },
  {
   "cell_type": "code",
   "execution_count": null,
   "metadata": {},
   "outputs": [],
   "source": [
    "# ファイルからグラフ定義を取得\n",
    "import tensorflow as tf\n",
    "\n",
    "tf.reset_default_graph()\n",
    "gdef = tf.GraphDef()\n",
    "gdef.ParseFromString(serialized)"
   ]
  },
  {
   "cell_type": "code",
   "execution_count": null,
   "metadata": {},
   "outputs": [],
   "source": [
    "with tf.Graph().as_default() as g:\n",
    "\n",
    "    # ファイルから取得したグラフ定義をインポート\n",
    "    tf.import_graph_def(gdef, name='')\n",
    "    \n",
    "    # opのリストを取得\n",
    "    ops = g.get_operations()\n",
    "    \n",
    "    # 最後から3つのopについて出力名を調べる\n",
    "    N = len(ops)\n",
    "    for i in [N-3,N-2,N-1]:\n",
    "        print('\\nop id {} : op type: \"{}\"'.format(str(i), ops[i].type));\n",
    "        for x in ops[i].outputs:\n",
    "            print(\"output name = {}\".format(x.name)),\n"
   ]
  },
  {
   "cell_type": "code",
   "execution_count": null,
   "metadata": {},
   "outputs": [],
   "source": [
    "import tfcoreml\n",
    "\n",
    "output_tensor_names = ['InceptionV1/Logits/Predictions/Softmax:0']\n",
    "\n",
    "coreml_model = tfcoreml.convert(\n",
    "        tf_model_path=tf_model_path,\n",
    "        mlmodel_path='./inception_v1_simplest.mlmodel',\n",
    "        output_feature_names=output_tensor_names)"
   ]
  },
  {
   "cell_type": "code",
   "execution_count": null,
   "metadata": {},
   "outputs": [],
   "source": [
    "class_labels = 'imagenet_slim_labels.txt'\n",
    "\n",
    "coreml_model = tfcoreml.convert(\n",
    "        tf_model_path=tf_model_path,\n",
    "        mlmodel_path='./inception_v1_classlabels.mlmodel',\n",
    "        output_feature_names=output_tensor_names,\n",
    "        class_labels=class_labels)"
   ]
  },
  {
   "cell_type": "code",
   "execution_count": null,
   "metadata": {
    "scrolled": true
   },
   "outputs": [],
   "source": [
    "# 最初の3つのopについて出力名を調べる\n",
    "for i in [0,1,2]:\n",
    "    print('\\nop id {} : op type: \"{}\"'.format(str(i), ops[i].type));\n",
    "    for x in ops[i].outputs:\n",
    "        print(\"output name = {}\".format(x.name)),"
   ]
  },
  {
   "cell_type": "code",
   "execution_count": null,
   "metadata": {},
   "outputs": [],
   "source": [
    "# 入力の型を画像に\n",
    "image_input_name = ['input:0']\n",
    "\n",
    "coreml_model = tfcoreml.convert(\n",
    "        tf_model_path=tf_model_path,\n",
    "        mlmodel_path='./inception_v1_imageinput.mlmodel',\n",
    "        image_input_names = image_input_name,\n",
    "        output_feature_names=output_tensor_names,\n",
    "        class_labels=class_labels)"
   ]
  },
  {
   "cell_type": "code",
   "execution_count": null,
   "metadata": {},
   "outputs": [],
   "source": [
    "# 前処理を追加\n",
    "coreml_model = tfcoreml.convert(\n",
    "        tf_model_path=tf_model_path,\n",
    "        mlmodel_path='./inception_v1.mlmodel',\n",
    "        output_feature_names=output_tensor_names,\n",
    "        image_input_names=image_input_name,\n",
    "        class_labels=class_labels,\n",
    "        red_bias = -1,\n",
    "        green_bias = -1,\n",
    "        blue_bias = -1,\n",
    "        image_scale = 2.0/255.0)"
   ]
  },
  {
   "cell_type": "code",
   "execution_count": null,
   "metadata": {},
   "outputs": [],
   "source": []
  }
 ],
 "metadata": {
  "kernelspec": {
   "display_name": "Python 3",
   "language": "python",
   "name": "python3"
  },
  "language_info": {
   "codemirror_mode": {
    "name": "ipython",
    "version": 3
   },
   "file_extension": ".py",
   "mimetype": "text/x-python",
   "name": "python",
   "nbconvert_exporter": "python",
   "pygments_lexer": "ipython3",
   "version": "3.7.5"
  }
 },
 "nbformat": 4,
 "nbformat_minor": 2
}
