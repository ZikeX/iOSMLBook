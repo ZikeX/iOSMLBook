{
 "cells": [
  {
   "cell_type": "code",
   "execution_count": null,
   "metadata": {},
   "outputs": [],
   "source": [
    "# .pbファイル読み込み\n",
    "tf_model_path = './stylize_quantized.pb'\n",
    "\n",
    "with open(tf_model_path, 'rb') as f:\n",
    "    serialized = f.read()"
   ]
  },
  {
   "cell_type": "code",
   "execution_count": null,
   "metadata": {},
   "outputs": [],
   "source": [
    "# ファイルからグラフ定義を取得\n",
    "import tensorflow as tf\n",
    "\n",
    "tf.reset_default_graph()\n",
    "gdef = tf.GraphDef()\n",
    "gdef.ParseFromString(serialized)"
   ]
  },
  {
   "cell_type": "code",
   "execution_count": null,
   "metadata": {},
   "outputs": [],
   "source": [
    "# 入力テンソルの名前を取得する\n",
    "with tf.Graph().as_default() as g:\n",
    "    tf.import_graph_def(gdef, name='')\n",
    "    ops = g.get_operations()\n",
    "    \n",
    "    # プレースホルダの出力名を調べる\n",
    "    N = len(ops)\n",
    "    for i in range(N):\n",
    "        if ops[i].type == 'Placeholder':\n",
    "            for x in ops[i].outputs:\n",
    "                print(\"output name = {}, shape: {},\"\n",
    "                      .format(x.name, x.get_shape())),"
   ]
  },
  {
   "cell_type": "code",
   "execution_count": null,
   "metadata": {},
   "outputs": [],
   "source": [
    "# 出力テンソルの名前を取得する\n",
    "with tf.Graph().as_default() as g:\n",
    "    tf.import_graph_def(gdef, name='')\n",
    "    ops = g.get_operations()\n",
    "\n",
    "    # 最後の10ノードの入出力を調べる\n",
    "    N = len(ops)\n",
    "    for i in range(N-10,N):\n",
    "        print('\\n\\nop id {} : op type: \"{}\"'.format(str(i), ops[i].type));\n",
    "        print('input(s):'),\n",
    "        for x in ops[i].inputs:\n",
    "            print(\"name = {}, shape: {}, \".format(x.name, x.get_shape())),\n",
    "        print('\\noutput(s):'),\n",
    "        for x in ops[i].outputs:\n",
    "            print(\"name = {}, shape: {},\".format(x.name, x.get_shape())),"
   ]
  },
  {
   "cell_type": "code",
   "execution_count": null,
   "metadata": {},
   "outputs": [],
   "source": [
    "# Core MLモデルへ変換する\n",
    "import tfcoreml\n",
    "\n",
    "mlmodel = tfcoreml.convert(\n",
    "        tf_model_path = tf_model_path,\n",
    "        mlmodel_path = './stylize_1.mlmodel',\n",
    "        output_feature_names = ['Squeeze:0'],\n",
    "        input_name_shape_dict = {'input:0':[1,256,256,3], 'style_num:0':[26]},\n",
    "        image_input_names = ['input:0'])"
   ]
  },
  {
   "cell_type": "code",
   "execution_count": null,
   "metadata": {},
   "outputs": [],
   "source": [
    "print(mlmodel)"
   ]
  },
  {
   "cell_type": "code",
   "execution_count": null,
   "metadata": {},
   "outputs": [],
   "source": [
    "# Specを取得\n",
    "spec = mlmodel.get_spec()\n",
    "print(spec.description)"
   ]
  },
  {
   "cell_type": "code",
   "execution_count": null,
   "metadata": {},
   "outputs": [],
   "source": [
    "output = spec.description.output[0]\n",
    "print(output.name)"
   ]
  },
  {
   "cell_type": "code",
   "execution_count": null,
   "metadata": {
    "scrolled": true
   },
   "outputs": [],
   "source": [
    "# 出力の型を変更する\n",
    "import coremltools\n",
    "from coremltools.proto import FeatureTypes_pb2 as ft\n",
    "\n",
    "output.type.imageType.colorSpace = ft.ImageFeatureType.ColorSpace.Value('RGB')\n",
    "output.type.imageType.width = 256\n",
    "output.type.imageType.height = 256"
   ]
  },
  {
   "cell_type": "code",
   "execution_count": null,
   "metadata": {},
   "outputs": [],
   "source": [
    "print(spec.description)"
   ]
  },
  {
   "cell_type": "code",
   "execution_count": null,
   "metadata": {},
   "outputs": [],
   "source": [
    "# .mlmodelファイルとして保存\n",
    "coremltools.models.utils.save_spec(spec, './stylize.mlmodel')"
   ]
  },
  {
   "cell_type": "code",
   "execution_count": null,
   "metadata": {},
   "outputs": [],
   "source": []
  }
 ],
 "metadata": {
  "kernelspec": {
   "display_name": "Python 3",
   "language": "python",
   "name": "python3"
  },
  "language_info": {
   "codemirror_mode": {
    "name": "ipython",
    "version": 3
   },
   "file_extension": ".py",
   "mimetype": "text/x-python",
   "name": "python",
   "nbconvert_exporter": "python",
   "pygments_lexer": "ipython3",
   "version": "3.7.5"
  }
 },
 "nbformat": 4,
 "nbformat_minor": 2
}
