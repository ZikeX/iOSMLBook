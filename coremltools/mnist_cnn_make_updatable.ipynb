{
 "cells": [
  {
   "cell_type": "code",
   "execution_count": null,
   "metadata": {},
   "outputs": [],
   "source": [
    "# これまでと同等のMNIST手書き数字認識モデルを構築する\n",
    "# ただし学習は行わない\n",
    "import keras\n",
    "from keras.models import Sequential\n",
    "from keras.layers import Conv2D, MaxPooling2D\n",
    "from keras.layers import Dense, Dropout, Flatten\n",
    "\n",
    "img_rows, img_cols = 28, 28\n",
    "input_shape = (img_rows, img_cols, 1)\n",
    "num_classes = 10\n",
    "\n",
    "model = Sequential()\n",
    "model.add(Conv2D(32, kernel_size=(3, 3),\n",
    "                 activation='relu',\n",
    "                 input_shape=input_shape))\n",
    "model.add(Conv2D(64, (3, 3), activation='relu'))\n",
    "model.add(MaxPooling2D(pool_size=(2, 2)))\n",
    "model.add(Dropout(0.25))\n",
    "model.add(Flatten())\n",
    "model.add(Dense(128, activation='relu'))\n",
    "model.add(Dropout(0.5))\n",
    "model.add(Dense(num_classes, activation='softmax'))\n",
    "\n",
    "model.compile(loss=keras.losses.categorical_crossentropy,\n",
    "              optimizer=keras.optimizers.SGD(),\n",
    "              metrics=['accuracy'])\n",
    "\n",
    "keras_model_path = './KerasMnistNotTrained.h5'\n",
    "model.save(keras_model_path)"
   ]
  },
  {
   "cell_type": "code",
   "execution_count": null,
   "metadata": {},
   "outputs": [],
   "source": [
    "## Core MLモデルに変換\n",
    "from keras.models import load_model\n",
    "keras_model = load_model(keras_model_path)\n",
    "\n",
    "from coremltools.converters import keras as converter\n",
    "\n",
    "class_labels = ['0', '1', '2', '3', '4', '5', '6', '7', '8', '9']\n",
    "\n",
    "mlmodel = converter.convert(keras_model,\n",
    "                            input_names=['image'],\n",
    "                            output_names=['digitProbabilities'],\n",
    "                            class_labels=class_labels,\n",
    "                            predicted_feature_name='digit')"
   ]
  },
  {
   "cell_type": "code",
   "execution_count": null,
   "metadata": {},
   "outputs": [],
   "source": [
    "# 入力の型を28x28のグレースケール画像に変更\n",
    "import coremltools\n",
    "\n",
    "spec = mlmodel.get_spec()\n",
    "builder = coremltools.models.neural_network.NeuralNetworkBuilder(spec=spec)\n",
    "\n",
    "from coremltools.proto import FeatureTypes_pb2 as ft\n",
    "grayscale = ft.ImageFeatureType.ColorSpace.Value('GRAYSCALE')\n",
    "input_image_type = builder.spec.description.input[0].type.imageType\n",
    "input_image_type.width = 28\n",
    "input_image_type.height = 28\n",
    "input_image_type.colorSpace = grayscale"
   ]
  },
  {
   "cell_type": "code",
   "execution_count": null,
   "metadata": {},
   "outputs": [],
   "source": [
    "print(spec.isUpdatable)\n",
    "print(spec.specificationVersion)"
   ]
  },
  {
   "cell_type": "code",
   "execution_count": null,
   "metadata": {},
   "outputs": [],
   "source": [
    "builder.inspect_updatable_layers()"
   ]
  },
  {
   "cell_type": "code",
   "execution_count": null,
   "metadata": {},
   "outputs": [],
   "source": [
    "builder.inspect_layers()"
   ]
  },
  {
   "cell_type": "code",
   "execution_count": null,
   "metadata": {},
   "outputs": [],
   "source": [
    "# モデルをUpdatableにする\n",
    "builder.make_updatable(['conv2d_1', 'conv2d_2', 'dense_1', 'dense_2'])"
   ]
  },
  {
   "cell_type": "code",
   "execution_count": null,
   "metadata": {},
   "outputs": [],
   "source": [
    "# spec.isUpdatable = True\n",
    "# spec.specificationVersion = coremltools._MINIMUM_UPDATABLE_SPEC_VERSION\n",
    "# は不要（make_updatableの中でやってくれている）\n",
    "print(spec.isUpdatable)\n",
    "print(spec.specificationVersion)"
   ]
  },
  {
   "cell_type": "code",
   "execution_count": null,
   "metadata": {},
   "outputs": [],
   "source": [
    "builder.inspect_updatable_layers()"
   ]
  },
  {
   "cell_type": "code",
   "execution_count": null,
   "metadata": {},
   "outputs": [],
   "source": [
    "builder.inspect_layers()"
   ]
  },
  {
   "cell_type": "code",
   "execution_count": null,
   "metadata": {},
   "outputs": [],
   "source": [
    "# 損失関数を指定する\n",
    "builder.set_categorical_cross_entropy_loss(name='lossLayer', input='digitProbabilities')"
   ]
  },
  {
   "cell_type": "code",
   "execution_count": null,
   "metadata": {},
   "outputs": [],
   "source": [
    "builder.inspect_loss_layers()"
   ]
  },
  {
   "cell_type": "code",
   "execution_count": null,
   "metadata": {},
   "outputs": [],
   "source": [
    "# 最適化アルゴリズム（オプティマイザ）を指定する\n",
    "from coremltools.models.neural_network import SgdParams\n",
    "builder.set_sgd_optimizer(SgdParams(lr=0.001, batch=8))"
   ]
  },
  {
   "cell_type": "code",
   "execution_count": null,
   "metadata": {},
   "outputs": [],
   "source": [
    "builder.inspect_optimizer()"
   ]
  },
  {
   "cell_type": "code",
   "execution_count": null,
   "metadata": {},
   "outputs": [],
   "source": [
    "# エポック数を指定する\n",
    "builder.set_epochs(12)"
   ]
  },
  {
   "cell_type": "code",
   "execution_count": null,
   "metadata": {},
   "outputs": [],
   "source": [
    "# 保存\n",
    "from coremltools.models import MLModel\n",
    "\n",
    "coreml_updatable_model_path = './UpdatableMNISTDigitClassifier.mlmodel'\n",
    "mlmodel_updatable = MLModel(spec)\n",
    "mlmodel_updatable.save(coreml_updatable_model_path)"
   ]
  },
  {
   "cell_type": "code",
   "execution_count": null,
   "metadata": {},
   "outputs": [],
   "source": []
  }
 ],
 "metadata": {
  "kernelspec": {
   "display_name": "Python 3",
   "language": "python",
   "name": "python3"
  },
  "language_info": {
   "codemirror_mode": {
    "name": "ipython",
    "version": 3
   },
   "file_extension": ".py",
   "mimetype": "text/x-python",
   "name": "python",
   "nbconvert_exporter": "python",
   "pygments_lexer": "ipython3",
   "version": "3.7.5"
  }
 },
 "nbformat": 4,
 "nbformat_minor": 2
}
