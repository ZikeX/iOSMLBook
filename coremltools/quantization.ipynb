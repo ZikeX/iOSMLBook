{
 "cells": [
  {
   "cell_type": "code",
   "execution_count": null,
   "metadata": {
    "scrolled": true
   },
   "outputs": [],
   "source": [
    "# CNNEmotion.mlmodelを次のURLからDLして同階層に置いてから実行してください\n",
    "# https://drive.google.com/file/d/1ElCJvnEvhtIxZkyEzVUAFPJAMgyBXo57/view?usp=sharing\n",
    "\n",
    "import coremltools\n",
    "\n",
    "# モデル読み込み\n",
    "model = coremltools.models.MLModel('./CNNEmotions.mlmodel')\n",
    "\n",
    "# Specを取得\n",
    "spec = model.get_spec()"
   ]
  },
  {
   "cell_type": "code",
   "execution_count": null,
   "metadata": {},
   "outputs": [],
   "source": [
    "# 半精度化\n",
    "spec_fp16 = coremltools.utils.convert_neural_network_spec_weights_to_fp16(spec)\n",
    "\n",
    "# 保存\n",
    "coremltools.utils.save_spec(spec_fp16, 'CNNEmotions_FP16.mlmodel')"
   ]
  },
  {
   "cell_type": "code",
   "execution_count": null,
   "metadata": {},
   "outputs": [],
   "source": [
    "print(spec_fp16.specificationVersion)"
   ]
  },
  {
   "cell_type": "code",
   "execution_count": null,
   "metadata": {},
   "outputs": [],
   "source": [
    "from coremltools.models.neural_network import quantization_utils\n",
    "\n",
    "# クオンタイズを実行して保存する関数\n",
    "def quantize_model(nbits, output_model_path):\n",
    "    quantized_model = quantization_utils.quantize_weights(model,\n",
    "                                                          nbits,\n",
    "                                                          'linear')\n",
    "    spec = quantized_model.get_spec()\n",
    "    coremltools.utils.save_spec(spec, output_model_path)\n",
    "    print(spec.specificationVersion)"
   ]
  },
  {
   "cell_type": "code",
   "execution_count": null,
   "metadata": {},
   "outputs": [],
   "source": [
    "quantize_model(16, './CNNEmotions_quantized_16.mlmodel')"
   ]
  },
  {
   "cell_type": "code",
   "execution_count": null,
   "metadata": {},
   "outputs": [],
   "source": [
    "quantize_model(8, './CNNEmotions_quantized_8.mlmodel')"
   ]
  },
  {
   "cell_type": "code",
   "execution_count": null,
   "metadata": {},
   "outputs": [],
   "source": []
  }
 ],
 "metadata": {
  "kernelspec": {
   "display_name": "Python 3",
   "language": "python",
   "name": "python3"
  },
  "language_info": {
   "codemirror_mode": {
    "name": "ipython",
    "version": 3
   },
   "file_extension": ".py",
   "mimetype": "text/x-python",
   "name": "python",
   "nbconvert_exporter": "python",
   "pygments_lexer": "ipython3",
   "version": "3.7.5"
  }
 },
 "nbformat": 4,
 "nbformat_minor": 2
}
