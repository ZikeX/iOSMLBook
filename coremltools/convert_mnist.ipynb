{
 "cells": [
  {
   "cell_type": "code",
   "execution_count": null,
   "metadata": {
    "scrolled": false
   },
   "outputs": [],
   "source": [
    "from keras.models import load_model\n",
    "keras_model = load_model('./KerasMnist.h5')"
   ]
  },
  {
   "cell_type": "code",
   "execution_count": null,
   "metadata": {},
   "outputs": [],
   "source": [
    "from coremltools.converters import keras as converter\n",
    "\n",
    "class_labels = ['0', '1', '2', '3', '4', '5', '6', '7', '8', '9']\n",
    "\n",
    "mlmodel = converter.convert(keras_model,\n",
    "                            input_names=['image'],\n",
    "                            output_names=['digitProbabilities'],\n",
    "                            class_labels=class_labels,\n",
    "                            predicted_feature_name='digit')"
   ]
  },
  {
   "cell_type": "code",
   "execution_count": null,
   "metadata": {},
   "outputs": [],
   "source": [
    "coreml_model_path = './MNISTDigitClassifier.mlmodel'\n",
    "mlmodel.save(coreml_model_path)"
   ]
  },
  {
   "cell_type": "code",
   "execution_count": null,
   "metadata": {},
   "outputs": [],
   "source": [
    "import coremltools\n",
    "\n",
    "# 作成したモデルの入力形式を確認する\n",
    "spec = coremltools.utils.load_spec(coreml_model_path)\n",
    "builder = coremltools.models.neural_network.NeuralNetworkBuilder(spec=spec)\n",
    "\n",
    "builder.inspect_input_features()"
   ]
  },
  {
   "cell_type": "code",
   "execution_count": null,
   "metadata": {},
   "outputs": [],
   "source": [
    "# 入力の型を28x28のグレースケール画像に変更\n",
    "from coremltools.proto import FeatureTypes_pb2 as ft\n",
    "grayscale = ft.ImageFeatureType.ColorSpace.Value('GRAYSCALE')\n",
    "input_image_type = builder.spec.description.input[0].type.imageType\n",
    "input_image_type.width = 28\n",
    "input_image_type.height = 28\n",
    "input_image_type.colorSpace = grayscale\n",
    "\n",
    "# 確認\n",
    "builder.inspect_input_features()"
   ]
  },
  {
   "cell_type": "code",
   "execution_count": null,
   "metadata": {},
   "outputs": [],
   "source": [
    "# save the updated spec\n",
    "mlmodel_modified = coremltools.models.MLModel(spec)\n",
    "mlmodel_modified.save('./ModifiedMNISTDigitClassifier.mlmodel')"
   ]
  },
  {
   "cell_type": "code",
   "execution_count": null,
   "metadata": {},
   "outputs": [],
   "source": []
  }
 ],
 "metadata": {
  "kernelspec": {
   "display_name": "Python 3",
   "language": "python",
   "name": "python3"
  },
  "language_info": {
   "codemirror_mode": {
    "name": "ipython",
    "version": 3
   },
   "file_extension": ".py",
   "mimetype": "text/x-python",
   "name": "python",
   "nbconvert_exporter": "python",
   "pygments_lexer": "ipython3",
   "version": "3.7.5"
  }
 },
 "nbformat": 4,
 "nbformat_minor": 2
}
