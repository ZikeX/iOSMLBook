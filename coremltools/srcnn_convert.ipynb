{
 "cells": [
  {
   "cell_type": "code",
   "execution_count": null,
   "metadata": {},
   "outputs": [],
   "source": [
    "import keras\n",
    "\n",
    "# エラー\n",
    "# keras_model = keras.models.load_model('./SRCNN_no-tf_2.h5')"
   ]
  },
  {
   "cell_type": "code",
   "execution_count": null,
   "metadata": {
    "scrolled": true
   },
   "outputs": [],
   "source": [
    "import numpy as np\n",
    "from keras import backend as K\n",
    "\n",
    "def psnr(y_true, y_pred):\n",
    "    return -10 * K.log(\n",
    "        K.mean(K.flatten((y_true - y_pred))**2)\n",
    "    ) / np.log(10)"
   ]
  },
  {
   "cell_type": "code",
   "execution_count": null,
   "metadata": {
    "scrolled": true
   },
   "outputs": [],
   "source": [
    "keras_model = keras.models.load_model('./SRCNN_no-tf_2.h5', \n",
    "                                      custom_objects={'psnr':psnr})"
   ]
  },
  {
   "cell_type": "code",
   "execution_count": null,
   "metadata": {},
   "outputs": [],
   "source": [
    "print(keras_model.input_shape)"
   ]
  },
  {
   "cell_type": "code",
   "execution_count": null,
   "metadata": {},
   "outputs": [],
   "source": [
    "keras_model.summary()"
   ]
  },
  {
   "cell_type": "code",
   "execution_count": null,
   "metadata": {},
   "outputs": [],
   "source": [
    "# 変換しようとしてみる\n",
    "from coremltools.converters import keras as converter\n",
    "\n",
    "# mlmodel = converter.convert(keras_model) # エラー"
   ]
  },
  {
   "cell_type": "code",
   "execution_count": null,
   "metadata": {},
   "outputs": [],
   "source": [
    "# 入力シェイプを指定して変換\n",
    "mlmodel = converter.convert(keras_model,\n",
    "                            input_name_shape_dict = {'input1':[None,200,200,3]},\n",
    "                            image_input_names = ['input1'])"
   ]
  },
  {
   "cell_type": "code",
   "execution_count": null,
   "metadata": {},
   "outputs": [],
   "source": [
    "spec = mlmodel.get_spec()\n",
    "print(spec.description)"
   ]
  },
  {
   "cell_type": "code",
   "execution_count": null,
   "metadata": {},
   "outputs": [],
   "source": [
    "# 出力の型を変更する\n",
    "import coremltools\n",
    "from coremltools.proto import FeatureTypes_pb2 as ft\n",
    "\n",
    "image_type = spec.description.output[0].type.imageType\n",
    "image_type.colorSpace = ft.ImageFeatureType.ColorSpace.Value('RGB')\n",
    "image_type.width = 200\n",
    "image_type.height = 200"
   ]
  },
  {
   "cell_type": "code",
   "execution_count": null,
   "metadata": {},
   "outputs": [],
   "source": [
    "print(spec.description)"
   ]
  },
  {
   "cell_type": "code",
   "execution_count": null,
   "metadata": {},
   "outputs": [],
   "source": [
    "# .mlmodelファイルとして保存\n",
    "coremltools.models.utils.save_spec(spec, './srcnn_fixed_shapes.mlmodel')"
   ]
  },
  {
   "cell_type": "code",
   "execution_count": null,
   "metadata": {},
   "outputs": [],
   "source": [
    "from coremltools.models.neural_network import flexible_shape_utils\n",
    "\n",
    "flexible_shape_utils.can_allow_multiple_input_shapes(spec)"
   ]
  },
  {
   "cell_type": "code",
   "execution_count": null,
   "metadata": {},
   "outputs": [],
   "source": [
    "flexible_shape_utils.get_allowed_shape_ranges(spec)"
   ]
  },
  {
   "cell_type": "code",
   "execution_count": null,
   "metadata": {},
   "outputs": [],
   "source": [
    "size_range = flexible_shape_utils.NeuralNetworkImageSizeRange()\n",
    "size_range.add_width_range((100, 400))\n",
    "size_range.add_height_range((100, 400))\n",
    "flexible_shape_utils.update_image_size_range(spec,                                            \n",
    "                                             feature_name='input1',\n",
    "                                             size_range=size_range)"
   ]
  },
  {
   "cell_type": "code",
   "execution_count": null,
   "metadata": {},
   "outputs": [],
   "source": [
    "print(spec.description)"
   ]
  },
  {
   "cell_type": "code",
   "execution_count": null,
   "metadata": {},
   "outputs": [],
   "source": [
    "flexible_shape_utils.update_image_size_range(spec,\n",
    "                                             feature_name='output1',                                            \n",
    "                                             size_range=size_range)"
   ]
  },
  {
   "cell_type": "code",
   "execution_count": null,
   "metadata": {},
   "outputs": [],
   "source": [
    "print(spec.description)"
   ]
  },
  {
   "cell_type": "code",
   "execution_count": null,
   "metadata": {},
   "outputs": [],
   "source": [
    "print(spec.specificationVersion)"
   ]
  },
  {
   "cell_type": "code",
   "execution_count": null,
   "metadata": {},
   "outputs": [],
   "source": [
    "coremltools.utils.save_spec(spec, \"./srcnn_flexible_shapes.mlmodel\")"
   ]
  },
  {
   "cell_type": "code",
   "execution_count": null,
   "metadata": {},
   "outputs": [],
   "source": []
  }
 ],
 "metadata": {
  "kernelspec": {
   "display_name": "Python 3",
   "language": "python",
   "name": "python3"
  },
  "language_info": {
   "codemirror_mode": {
    "name": "ipython",
    "version": 3
   },
   "file_extension": ".py",
   "mimetype": "text/x-python",
   "name": "python",
   "nbconvert_exporter": "python",
   "pygments_lexer": "ipython3",
   "version": "3.7.5"
  }
 },
 "nbformat": 4,
 "nbformat_minor": 2
}
